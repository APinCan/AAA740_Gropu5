{
 "cells": [
  {
   "cell_type": "code",
   "execution_count": 21,
   "id": "31386f2f",
   "metadata": {},
   "outputs": [
    {
     "data": {
      "text/plain": [
       "1.0"
      ]
     },
     "execution_count": 21,
     "metadata": {},
     "output_type": "execute_result"
    }
   ],
   "source": [
    "# 워뇨띠가 300으로 3년에 200억 = 6666.6666.. 배\n",
    "# 내 목표: 1,000달러로 100일에 100,000달러 = 100배\n",
    "100 / (100)"
   ]
  },
  {
   "cell_type": "code",
   "execution_count": 29,
   "id": "6e41bcc7",
   "metadata": {},
   "outputs": [
    {
     "data": {
      "text/plain": [
       "2.158924997272788"
      ]
     },
     "execution_count": 29,
     "metadata": {},
     "output_type": "execute_result"
    }
   ],
   "source": [
    "1.08 ** 10"
   ]
  },
  {
   "cell_type": "code",
   "execution_count": 26,
   "id": "357f8bdc",
   "metadata": {},
   "outputs": [
    {
     "data": {
      "text/plain": [
       "5.0"
      ]
     },
     "execution_count": 26,
     "metadata": {},
     "output_type": "execute_result"
    }
   ],
   "source": [
    "seed = 1000\n",
    "for i in range(100):\n",
    "    1000 * (500 * 10 * 1.058)"
   ]
  },
  {
   "cell_type": "code",
   "execution_count": 30,
   "id": "e82cb529",
   "metadata": {},
   "outputs": [
    {
     "data": {
      "text/plain": [
       "2.3242827209838888"
      ]
     },
     "execution_count": 30,
     "metadata": {},
     "output_type": "execute_result"
    }
   ],
   "source": []
  }
 ],
 "metadata": {
  "kernelspec": {
   "display_name": "Python 3 (ipykernel)",
   "language": "python",
   "name": "python3"
  },
  "language_info": {
   "codemirror_mode": {
    "name": "ipython",
    "version": 3
   },
   "file_extension": ".py",
   "mimetype": "text/x-python",
   "name": "python",
   "nbconvert_exporter": "python",
   "pygments_lexer": "ipython3",
   "version": "3.8.10"
  }
 },
 "nbformat": 4,
 "nbformat_minor": 5
}
